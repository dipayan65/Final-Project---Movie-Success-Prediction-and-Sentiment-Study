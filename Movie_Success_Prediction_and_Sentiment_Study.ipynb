{
  "nbformat": 4,
  "nbformat_minor": 0,
  "metadata": {
    "colab": {
      "private_outputs": true,
      "provenance": []
    },
    "kernelspec": {
      "name": "python3",
      "display_name": "Python 3"
    },
    "language_info": {
      "name": "python"
    }
  },
  "cells": [
    {
      "cell_type": "markdown",
      "source": [
        "SENTIMENT DISTRIBUTION OF IMDB REVIEWS"
      ],
      "metadata": {
        "id": "5RJjw7Jlhogs"
      }
    },
    {
      "cell_type": "code",
      "execution_count": null,
      "metadata": {
        "id": "09gyGfb7UUFF"
      },
      "outputs": [],
      "source": [
        "!pip install nltk vaderSentiment"
      ]
    },
    {
      "cell_type": "code",
      "source": [
        "import pandas as pd\n",
        "import matplotlib.pyplot as plt\n",
        "import seaborn as sns\n",
        "from vaderSentiment.vaderSentiment import SentimentIntensityAnalyzer\n",
        "import nltk\n",
        "\n",
        "nltk.download('vader_lexicon')\n"
      ],
      "metadata": {
        "id": "L9PXaHxDYaTR"
      },
      "execution_count": null,
      "outputs": []
    },
    {
      "cell_type": "code",
      "source": [
        "from google.colab import files\n",
        "\n",
        "uploaded = files.upload()\n"
      ],
      "metadata": {
        "id": "DSfher_yZH_e"
      },
      "execution_count": null,
      "outputs": []
    },
    {
      "cell_type": "code",
      "source": [
        "movies = pd.read_csv(\"tmdb_5000_movies.csv\")\n",
        "reviews = pd.read_csv(\"IMDB Dataset.csv\")\n"
      ],
      "metadata": {
        "id": "7iMCpiDBZ1XI"
      },
      "execution_count": null,
      "outputs": []
    },
    {
      "cell_type": "code",
      "source": [
        "reviews.columns = ['review', 'sentiment']\n",
        "reviews.dropna(inplace=True)\n",
        "\n",
        "analyzer = SentimentIntensityAnalyzer()\n",
        "reviews['compound'] = reviews['review'].apply(lambda x: analyzer.polarity_scores(x)['compound'])\n",
        "reviews['vader_sentiment'] = reviews['compound'].apply(lambda x: 'positive' if x >= 0.05 else ('negative' if x <= -0.05 else 'neutral'))\n"
      ],
      "metadata": {
        "id": "J85CUY-1ecqH"
      },
      "execution_count": null,
      "outputs": []
    },
    {
      "cell_type": "code",
      "source": [
        "sns.countplot(x='vader_sentiment', data=reviews, palette='Set2')\n",
        "plt.title('Sentiment Distribution of IMDB Reviews')\n",
        "plt.xlabel('Sentiment')\n",
        "plt.ylabel('Count')\n",
        "plt.show()"
      ],
      "metadata": {
        "id": "D8Bb01E0ek0C"
      },
      "execution_count": null,
      "outputs": []
    },
    {
      "cell_type": "code",
      "source": [],
      "metadata": {
        "id": "BDmGlki8fVgQ"
      },
      "execution_count": null,
      "outputs": []
    },
    {
      "cell_type": "markdown",
      "source": [
        "Genre-wise Sentiment Analysis"
      ],
      "metadata": {
        "id": "Qf8U-WXzhjeJ"
      }
    },
    {
      "cell_type": "code",
      "source": [
        "# Check columns\n",
        "print(movies.columns)\n",
        "print(reviews.columns)\n"
      ],
      "metadata": {
        "id": "-MVK2_cGhmoB"
      },
      "execution_count": null,
      "outputs": []
    },
    {
      "cell_type": "code",
      "source": [
        "import random\n",
        "\n",
        "# Get a list of popular genres from movies dataset\n",
        "all_genres = set()\n",
        "for genres in movies['genres']:\n",
        "    for g in genres.strip('[]').replace('\"', '').split(','):\n",
        "        all_genres.add(g.strip())\n",
        "genre_list = list(filter(None, all_genres))\n",
        "\n",
        "# Assign random genres to reviews just for genre-wise sentiment analysis\n",
        "reviews['genre'] = [random.choice(genre_list) for _ in range(len(reviews))]\n"
      ],
      "metadata": {
        "id": "tSd5IqCzi0H6"
      },
      "execution_count": null,
      "outputs": []
    },
    {
      "cell_type": "code",
      "source": [
        "# Count of sentiments per genre\n",
        "genre_sentiment = reviews.groupby(['genre', 'vader_sentiment']).size().unstack().fillna(0)\n",
        "\n",
        "# Plot\n",
        "genre_sentiment.plot(kind='bar', stacked=True, figsize=(14, 6), colormap='Set3')\n",
        "plt.title('Sentiment Distribution by Genre')\n",
        "plt.xlabel('Genre')\n",
        "plt.ylabel('Number of Reviews')\n",
        "plt.xticks(rotation=45)\n",
        "plt.tight_layout()\n",
        "plt.show()\n"
      ],
      "metadata": {
        "id": "f6CJO7oTjOF8"
      },
      "execution_count": null,
      "outputs": []
    },
    {
      "cell_type": "code",
      "source": [],
      "metadata": {
        "id": "gBpH-KO4jTwE"
      },
      "execution_count": null,
      "outputs": []
    },
    {
      "cell_type": "markdown",
      "source": [
        "Predict Movie Success (Regression)"
      ],
      "metadata": {
        "id": "e-9Lj6bhjt96"
      }
    },
    {
      "cell_type": "code",
      "source": [
        "# Select features\n",
        "features = movies[['budget', 'popularity', 'vote_average', 'vote_count', 'runtime', 'revenue']].copy()\n",
        "\n",
        "# Drop rows with missing or zero values\n",
        "features = features[(features != 0).all(axis=1)]\n",
        "\n",
        "# Check data\n",
        "features.head()\n"
      ],
      "metadata": {
        "id": "eiAQCEZGju9L"
      },
      "execution_count": null,
      "outputs": []
    },
    {
      "cell_type": "code",
      "source": [
        "from sklearn.model_selection import train_test_split\n",
        "from sklearn.ensemble import RandomForestRegressor\n",
        "from sklearn.metrics import mean_squared_error, r2_score\n",
        "\n",
        "X = features.drop('revenue', axis=1)\n",
        "y = features['revenue']\n",
        "\n",
        "X_train, X_test, y_train, y_test = train_test_split(X, y, test_size=0.2, random_state=42)\n",
        "\n",
        "model = RandomForestRegressor(n_estimators=100, random_state=42)\n",
        "model.fit(X_train, y_train)\n",
        "\n",
        "y_pred = model.predict(X_test)\n",
        "import numpy as np\n",
        "print(\"RMSE:\", np.sqrt(mean_squared_error(y_test, y_pred)))\n",
        "print(\"R² Score:\", r2_score(y_test, y_pred))\n"
      ],
      "metadata": {
        "id": "KzPiZBKUjx0G"
      },
      "execution_count": null,
      "outputs": []
    },
    {
      "cell_type": "code",
      "source": [
        "from sklearn.model_selection import train_test_split\n",
        "from sklearn.ensemble import RandomForestRegressor\n",
        "from sklearn.metrics import mean_squared_error, r2_score\n",
        "import numpy as np\n",
        "\n",
        "X = features.drop('revenue', axis=1)\n",
        "y = features['revenue']\n",
        "\n",
        "X_train, X_test, y_train, y_test = train_test_split(X, y, test_size=0.2, random_state=42)\n",
        "\n",
        "model = RandomForestRegressor(n_estimators=100, random_state=42)\n",
        "model.fit(X_train, y_train)\n",
        "\n",
        "y_pred = model.predict(X_test)\n",
        "\n",
        "# Compute RMSE and R² Score\n",
        "print(\"RMSE:\", np.sqrt(mean_squared_error(y_test, y_pred)))\n",
        "print(\"R² Score:\", r2_score(y_test, y_pred))\n"
      ],
      "metadata": {
        "id": "gGKJAIXHkHYR"
      },
      "execution_count": null,
      "outputs": []
    },
    {
      "cell_type": "code",
      "source": [
        "# Plot feature importances\n",
        "importances = model.feature_importances_\n",
        "feat_names = X.columns\n",
        "\n",
        "sns.barplot(x=importances, y=feat_names, palette='coolwarm')\n",
        "plt.title('Feature Importance for Revenue Prediction')\n",
        "plt.xlabel('Importance')\n",
        "plt.ylabel('Feature')\n",
        "plt.show()\n"
      ],
      "metadata": {
        "id": "yfJDPpZSloDW"
      },
      "execution_count": null,
      "outputs": []
    },
    {
      "cell_type": "markdown",
      "source": [
        "Word Clouds & Text Insights"
      ],
      "metadata": {
        "id": "74FFcIwcopgm"
      }
    },
    {
      "cell_type": "code",
      "source": [
        "!pip install wordcloud\n",
        "\n"
      ],
      "metadata": {
        "id": "Upg106APl2G-"
      },
      "execution_count": null,
      "outputs": []
    },
    {
      "cell_type": "code",
      "source": [
        "from wordcloud import WordCloud, STOPWORDS\n",
        "import matplotlib.pyplot as plt\n",
        "\n",
        "# Define stopwords\n",
        "stopwords = set(STOPWORDS)\n",
        "\n",
        "# Separate positive and negative reviews\n",
        "positive_reviews = reviews[reviews['vader_sentiment'] == 'positive']['review']\n",
        "negative_reviews = reviews[reviews['vader_sentiment'] == 'negative']['review']\n",
        "\n",
        "# Join all text into single string\n",
        "pos_text = \" \".join(positive_reviews)\n",
        "neg_text = \" \".join(negative_reviews)\n",
        "\n",
        "# Create word clouds\n",
        "wordcloud_pos = WordCloud(width=800, height=400, background_color='white', stopwords=stopwords).generate(pos_text)\n",
        "wordcloud_neg = WordCloud(width=800, height=400, background_color='black', colormap='Reds', stopwords=stopwords).generate(neg_text)\n",
        "\n",
        "# Plot\n",
        "plt.figure(figsize=(16, 7))\n",
        "\n",
        "plt.subplot(1, 2, 1)\n",
        "plt.imshow(wordcloud_pos, interpolation='bilinear')\n",
        "plt.axis('off')\n",
        "plt.title(\"Positive Reviews Word Cloud\", fontsize=16)\n",
        "\n",
        "plt.subplot(1, 2, 2)\n",
        "plt.imshow(wordcloud_neg, interpolation='bilinear')\n",
        "plt.axis('off')\n",
        "plt.title(\"Negative Reviews Word Cloud\", fontsize=16)\n",
        "\n",
        "plt.tight_layout()\n",
        "plt.show()\n"
      ],
      "metadata": {
        "id": "z78Zp64Dou8u"
      },
      "execution_count": null,
      "outputs": []
    },
    {
      "cell_type": "code",
      "source": [],
      "metadata": {
        "id": "duauaZA1o69T"
      },
      "execution_count": null,
      "outputs": []
    }
  ]
}